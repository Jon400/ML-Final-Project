{
 "cells": [
  {
   "cell_type": "markdown",
   "source": [
    "## Load the dataset"
   ],
   "metadata": {
    "collapsed": false
   }
  },
  {
   "cell_type": "code",
   "execution_count": 111,
   "outputs": [
    {
     "name": "stderr",
     "output_type": "stream",
     "text": [
      "Downloading...\n",
      "From (uriginal): https://drive.google.com/uc?id=1qjVfiihN_MNdrOJXZIaS_JQ8JzO5pxfM\n",
      "From (redirected): https://drive.google.com/uc?id=1qjVfiihN_MNdrOJXZIaS_JQ8JzO5pxfM&confirm=t&uuid=3b739b8f-9c86-4d1d-97bc-a398d1dc66e0\n",
      "To: C:\\Users\\jonat\\PycharmProjects\\ML-Final-Project\\data.zip\n",
      "100%|██████████| 583M/583M [01:41<00:00, 5.75MB/s] \n",
      "Extracting : 100%|██████████| 3770/3770 [00:02<00:00, 1657.80it/s]"
     ]
    },
    {
     "name": "stdout",
     "output_type": "stream",
     "text": [
      "Importing dataset completed\n"
     ]
    },
    {
     "name": "stderr",
     "output_type": "stream",
     "text": [
      "\n"
     ]
    }
   ],
   "source": [
    "import tqdm\n",
    "import gdown\n",
    "import zipfile\n",
    "\n",
    "# Load the dataset from the local folder\n",
    "dataset_url = 'https://drive.google.com/file/d/1qjVfiihN_MNdrOJXZIaS_JQ8JzO5pxfM/view?usp=sharing'\n",
    "gdown.download(dataset_url, output='data.zip', quiet=False, fuzzy=True)\n",
    "\n",
    "# extract the dataset from the zip file\n",
    "with zipfile.ZipFile(\"data.zip\",\"r\") as zf:\n",
    "    for member in tqdm.tqdm(zf.infolist(), desc='Extracting '):\n",
    "        try:\n",
    "            zf.extract(member, 'data')\n",
    "        except zipfile.error as e:\n",
    "            pass\n",
    "print('Importing dataset completed')"
   ],
   "metadata": {
    "collapsed": false
   }
  },
  {
   "cell_type": "code",
   "execution_count": 115,
   "outputs": [
    {
     "name": "stdout",
     "output_type": "stream",
     "text": [
      "The dataset contains 3770 images\n"
     ]
    }
   ],
   "source": [
    "import pathlib\n",
    "\n",
    "# Count the number of images in the dataset\n",
    "data_dir = pathlib.Path('./data')\n",
    "image_count = len(list(data_dir.glob('*/*.jpg')))\n",
    "print(f\"The dataset contains {image_count} images\")"
   ],
   "metadata": {
    "collapsed": false
   }
  },
  {
   "cell_type": "code",
   "execution_count": null,
   "outputs": [],
   "source": [],
   "metadata": {
    "collapsed": false
   }
  }
 ],
 "metadata": {
  "kernelspec": {
   "display_name": "Python 3",
   "language": "python",
   "name": "python3"
  },
  "language_info": {
   "codemirror_mode": {
    "name": "ipython",
    "version": 2
   },
   "file_extension": ".py",
   "mimetype": "text/x-python",
   "name": "python",
   "nbconvert_exporter": "python",
   "pygments_lexer": "ipython2",
   "version": "2.7.6"
  }
 },
 "nbformat": 4,
 "nbformat_minor": 0
}
